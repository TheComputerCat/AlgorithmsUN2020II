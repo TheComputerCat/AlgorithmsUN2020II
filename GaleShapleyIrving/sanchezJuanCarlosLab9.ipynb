{
  "nbformat": 4,
  "nbformat_minor": 0,
  "metadata": {
    "colab": {
      "name": "sanchezJuanCarlosLab9.ipynb",
      "provenance": [],
      "collapsed_sections": []
    },
    "kernelspec": {
      "name": "python3",
      "display_name": "Python 3"
    }
  },
  "cells": [
    {
      "cell_type": "markdown",
      "metadata": {
        "id": "RDfHmRtCgFff"
      },
      "source": [
        "# Lab 8\n",
        "## Punto a"
      ]
    },
    {
      "cell_type": "markdown",
      "metadata": {
        "id": "LZJeyV-dhUWb"
      },
      "source": [
        "#Analisis peor caso:\n",
        "\n",
        "###Lema 1: Si en la $n(n-1)$ iteración(cada proponente ha propuesto y sido rechazado $n-1$ veces), el algoritmo de Gale-Shapley no ha terminado, queda a lo sumo un proponente libre.\n",
        "\n",
        "Dem: Supongamos que existen $2 \\leq p $ proponetes libre, así quedan p espacios libres lo que significa que no se ha propuesto a ninguno de esos esos p espacios, así cada proponente ha propuesto $(n - p)$ veces, lo cual es una contradicción.\n",
        "\n",
        "###Proposición: El peor caso para el algoritmo de Gale-Shapley es $n(n-1) - n + 2$ días.\n",
        "\n",
        "Se tiene n proponentes y notese que ninguno puede ser rechazado n veces ya que quedaría una pareja sola, así cada proponente puede ser rechazado a lo mas $n(n-1)$ veces. Como el algoritmo de Gale-Shapley garantiza parejas estables, una vez se haya cumplido estas $n(n-1)$ iteraciones por el lema 1, quedara a lo sumo un proponente libre que necesitara una iteración mas para alcanzar una pareja, así el máximo de iteraciones es $n(n-1) + 1$.\n",
        "Como el primer día se hacen n iteraciones entonces el numero de días es $n(n-1) + 1 + (-n + 1) = n(n-1) - n + 2$.\n",
        "\n",
        "Una forma de alcanzar esto es dejando que despues de el primer día quede solo un proponente quede libre por iteración hasta que todos alcancen $n-1$ propuestas, usando los siguientes casos:\n",
        "$$Hombres$$\n",
        "\\begin{matrix}\n",
        " a_1 & b_1& ... & b_3 & b_{n-1} & b_n \\\\\n",
        " a_2 & b_2& ... & b_{n-1} & b_1 & b_n\\\\ \n",
        " ... & ...& ... & ... & ... & ...\\\\   ... & ...& ... & ... & ... & ...\\\\\n",
        " a_{n-1}  & b_{n-1}& b_1 & ... & b_{n-2} & b_n\\\\\n",
        " a_n & b_1& ... & b_3 & b_{n-1} & b_n\n",
        "\\end{matrix}\\\n",
        "$$Mujeres$$\n",
        "\n",
        "\\begin{matrix}\n",
        " b_1 & a_2& a_3 & ... & a_n & a_1 \\\\\n",
        " b_2 & a_3& ... & a_n & a_1 & a_2 \\\\ \n",
        "... & ...& ... & ... & ... & ...\\\\\n",
        " ... & ...& ... & ... & ... & ...\\\\\n",
        " b_{n-1} & a_5& a_1 & a_2 & ... & a_{n-1}\\\\\n",
        " b_n & a_2& a_3 & ... & a_n & a_1 \\end{matrix}\\\n",
        " Aquí en el primer día todos los hombres $a_i$ con $i \\in \\{1, ..., n -1\\}$ quedaran emparejados primero con la mujer $b_i$, y cuando el hombre $a_n$ proponga, dejara al hombre $a1$ por fuera, el siguiente día $a_1$ propondrá a $b_2$ y esta dejara solo a $a_2$, quien el siguiente día propondrá a $b_3$ dejando solo a $a_3$, asi hasta que $a_{n-2}$ proponga a $b_n-1$, dejando a $a_{n-1}$ quien propondrá a 1 dejando a $a_n$ solo y empezando el ciclo de nuevo. Como este input deja un hombre solo por iteración despues del primer día, es un ejemplo de peor caso.\n",
        "#Analisis mejor caso\n",
        "Este se da cuando solo tiene que hacer n iteraciones(un día), por ejemplo:\n",
        "$$Hombres$$\n",
        "\\begin{matrix}\n",
        " a_1 & b_1& ... & b_3 & b_{n-1} & b_n \\\\\n",
        " a_2 & b_2& ... & b_{n-1} & b_1 & b_n\\\\ \n",
        " ... & ...& ... & ... & ... & ...\\\\   ... & ...& ... & ... & ... & ...\\\\\n",
        " a_n & b_n& b1 & b_2 & ... & b_{n-1}\n",
        "\\end{matrix}\\\n",
        "$$Mujeres$$\n",
        "\n",
        "\\begin{matrix}\n",
        " b_1 & a_1& a_2 & a_3 & ... & a_n \\\\\n",
        " b_2 & a_2& a_3 & ... & a_n & a_1 \\\\ \n",
        "... & ...& ... & ... & ... & ...\\\\\n",
        " b_n & a_n& a_1 & a_2 & ... & a_{n-1} \\end{matrix}\n",
        "\n",
        "\n"
      ]
    },
    {
      "cell_type": "code",
      "metadata": {
        "id": "qZt-rk9gV-Jw"
      },
      "source": [
        "def setWorst(n,d):\n",
        "  m = []\n",
        "  w = []\n",
        "  for i in range(n):\n",
        "    mi = []\n",
        "    wi = []\n",
        "    s = 0\n",
        "    for ii in range(n):\n",
        "      if (i + ii+ 1)%n == 0:\n",
        "        s =1\n",
        "      wi.append((i + ii + 1)%n)\n",
        "      mi.append((i + ii +s)%n + d)\n",
        "    mi[n-1] = n - 1 + d\n",
        "    w.append(wi)\n",
        "    m.append(mi)\n",
        "  return [m,w]"
      ],
      "execution_count": null,
      "outputs": []
    },
    {
      "cell_type": "code",
      "metadata": {
        "id": "qg3FyiJ0Pq5m"
      },
      "source": [
        "def setBest(n,d):\n",
        "  m = []\n",
        "  w = []\n",
        "  for i in range(n):\n",
        "    mi = []\n",
        "    wi = []\n",
        "    for ii in range(n):\n",
        "      mi.append((i + ii)%(n+1) + d)\n",
        "      wi.append((i + ii)%(n+1))\n",
        "    m.append(mi)\n",
        "    w.append(wi)\n",
        "  return [m,w]"
      ],
      "execution_count": null,
      "outputs": []
    },
    {
      "cell_type": "markdown",
      "metadata": {
        "id": "cbkT3Q-pRJSY"
      },
      "source": [
        "#Alg 1"
      ]
    },
    {
      "cell_type": "code",
      "metadata": {
        "id": "3f_LsYnRXKKW"
      },
      "source": [
        "  '''\n",
        "MIT License\n",
        "\n",
        "Copyright (c) 2018 Vishal Kancharla\n",
        "\n",
        "Permission is hereby granted, free of charge, to any person obtaining a copy\n",
        "of this software and associated documentation files (the \"Software\"), to deal\n",
        "in the Software without restriction, including without limitation the rights\n",
        "to use, copy, modify, merge, publish, distribute, sublicense, and/or sell\n",
        "copies of the Software, and to permit persons to whom the Software is\n",
        "furnished to do so, subject to the following conditions:\n",
        "\n",
        "The above copyright notice and this permission notice shall be included in all\n",
        "copies or substantial portions of the Software.\n",
        "\n",
        "THE SOFTWARE IS PROVIDED \"AS IS\", WITHOUT WARRANTY OF ANY KIND, EXPRESS OR\n",
        "IMPLIED, INCLUDING BUT NOT LIMITED TO THE WARRANTIES OF MERCHANTABILITY,\n",
        "FITNESS FOR A PARTICULAR PURPOSE AND NONINFRINGEMENT. IN NO EVENT SHALL THE\n",
        "AUTHORS OR COPYRIGHT HOLDERS BE LIABLE FOR ANY CLAIM, DAMAGES OR OTHER\n",
        "LIABILITY, WHETHER IN AN ACTION OF CONTRACT, TORT OR OTHERWISE, ARISING FROM,\n",
        "OUT OF OR IN CONNECTION WITH THE SOFTWARE OR THE USE OR OTHER DEALINGS IN THE\n",
        "SOFTWARE.\n",
        "'''\n",
        "  def stableMatching(n, menPreferences, womenPreferences, f):\n",
        "    # Initially, all n men are unmarried\n",
        "    unmarriedMen = list(range(n))\n",
        "    # None of the men has a spouse yet, we denote this by the value None\n",
        "    manSpouse = [None] * n                      \n",
        "    # None of the women has a spouse yet, we denote this by the value None\n",
        "    womanSpouse = [None] * n                      \n",
        "    # Each man made 0 proposals, which means that \n",
        "    # his next proposal will be to the woman number 0 in his list\n",
        "    nextManChoice = [0] * n                       \n",
        "    count = 0\n",
        "    # While there exists at least one unmarried man:\n",
        "    while unmarriedMen:\n",
        "        count = count + 1\n",
        "        # Pick an arbitrary unmarried man\n",
        "        he = unmarriedMen[0]                      \n",
        "        # Store his ranking in this variable for convenience\n",
        "        hisPreferences = menPreferences[he]       \n",
        "        # Find a woman to propose to\n",
        "        she = hisPreferences[nextManChoice[he]] \n",
        "        # Store her ranking in this variable for convenience\n",
        "        herPreferences = womenPreferences[she]\n",
        "        # Find the present husband of the selected woman (it might be None)\n",
        "        currentHusband = womanSpouse[she]\n",
        "       \n",
        "        \n",
        "        # Now \"he\" proposes to \"she\". \n",
        "        # Decide whether \"she\" accepts, and update the following fields\n",
        "        # 1. manSpouse\n",
        "        # 2. womanSpouse\n",
        "        # 3. unmarriedMen\n",
        "        # 4. nextManChoice\n",
        "        if currentHusband == None:\n",
        "          #No Husband case\n",
        "          #\"She\" accepts any proposal\n",
        "          womanSpouse[she] = he\n",
        "          manSpouse[he] = she\n",
        "          #\"His\" nextchoice is the next woman\n",
        "          #in the hisPreferences list\n",
        "          nextManChoice[he] = nextManChoice[he] + 1\n",
        "          #Delete \"him\" from the \n",
        "          #Unmarried list\n",
        "          unmarriedMen.pop(0)\n",
        "        else:\n",
        "          #Husband exists\n",
        "          #Check the preferences of the \n",
        "          #current husband and that of the proposed man's\n",
        "          currentIndex = herPreferences.index(currentHusband)\n",
        "          hisIndex = herPreferences.index(he)\n",
        "          #Accept the proposal if \n",
        "          #\"he\" has higher preference in the herPreference list\n",
        "          if currentIndex > hisIndex:\n",
        "             #New stable match is found for \"her\"\n",
        "             womanSpouse[she] = he\n",
        "             manSpouse[he] = she\n",
        "             nextManChoice[he] = nextManChoice[he] + 1\n",
        "             #Pop the newly wed husband\n",
        "             unmarriedMen.pop(0)\n",
        "             #Now the previous husband is unmarried add\n",
        "             #him to the unmarried list\n",
        "             unmarriedMen.insert(0,currentHusband)\n",
        "          else:\n",
        "             nextManChoice[he] = nextManChoice[he] + 1\n",
        "             \n",
        "           \n",
        "            \n",
        "    if f==1:\n",
        "      print(\"n:\",n,\", Iterations: \",count, \"(n(n-1) +1):\", n*(n-1) + 1)\n",
        "    elif f == 0:\n",
        "      print(\"n:\",n,\", Iterations: \",count)\n",
        "    else:\n",
        "      return count\n",
        "    \n",
        "# Credits code: https://github.com/Vishal-Kancharla/Gale-Shapley-Algorithm\n"
      ],
      "execution_count": null,
      "outputs": []
    },
    {
      "cell_type": "markdown",
      "metadata": {
        "id": "AgJM-MHqVxJ9"
      },
      "source": [
        "##Peor de los casos $n=4$"
      ]
    },
    {
      "cell_type": "code",
      "metadata": {
        "colab": {
          "base_uri": "https://localhost:8080/"
        },
        "id": "QnmLyV3dXKo4",
        "outputId": "24bdf360-3ade-4fc4-c318-2968295dca2e"
      },
      "source": [
        "s = setWorst(4, 0)\n",
        "stableMatching(4, s[0], s[1], 1)"
      ],
      "execution_count": null,
      "outputs": [
        {
          "output_type": "stream",
          "text": [
            "n: 4 , Iterations:  13 (n(n-1) +1): 13\n"
          ],
          "name": "stdout"
        }
      ]
    },
    {
      "cell_type": "markdown",
      "metadata": {
        "id": "h1rhfjY5WGmz"
      },
      "source": [
        "##Peor de los casos $n=40$"
      ]
    },
    {
      "cell_type": "code",
      "metadata": {
        "id": "Oqbiqibncvut",
        "colab": {
          "base_uri": "https://localhost:8080/"
        },
        "outputId": "88632398-af4a-47bb-a279-14752efcf158"
      },
      "source": [
        "s = setWorst(40, 0)\n",
        "stableMatching(40, s[0], s[1], 1)"
      ],
      "execution_count": null,
      "outputs": [
        {
          "output_type": "stream",
          "text": [
            "n: 40 , Iterations:  1561 (n(n-1) +1): 1561\n"
          ],
          "name": "stdout"
        }
      ]
    },
    {
      "cell_type": "markdown",
      "metadata": {
        "id": "zMxOzYeUWWyw"
      },
      "source": [
        "##Mejor de los casos $n=4$"
      ]
    },
    {
      "cell_type": "code",
      "metadata": {
        "colab": {
          "base_uri": "https://localhost:8080/"
        },
        "id": "m1Mdw6FnWXKf",
        "outputId": "aeeda540-bce2-41e6-b27c-fc5a267540ff"
      },
      "source": [
        "s = setBest(4, 0)\n",
        "stableMatching(4,s[0],s[1], 0) "
      ],
      "execution_count": null,
      "outputs": [
        {
          "output_type": "stream",
          "text": [
            "n: 4 , Iterations:  4\n"
          ],
          "name": "stdout"
        }
      ]
    },
    {
      "cell_type": "markdown",
      "metadata": {
        "id": "ZZwBZZtUXX3c"
      },
      "source": [
        "##Mejor de los casos $n=40$"
      ]
    },
    {
      "cell_type": "code",
      "metadata": {
        "colab": {
          "base_uri": "https://localhost:8080/"
        },
        "id": "08SsMULXXbdN",
        "outputId": "3ba1b2c0-0b01-431c-fa4c-cd918432c374"
      },
      "source": [
        "s = setBest(40, 0)\n",
        "stableMatching(40,s[0],s[1], 0) "
      ],
      "execution_count": null,
      "outputs": [
        {
          "output_type": "stream",
          "text": [
            "n: 40 , Iterations:  40\n"
          ],
          "name": "stdout"
        }
      ]
    },
    {
      "cell_type": "markdown",
      "metadata": {
        "id": "qCPybq5KRqzA"
      },
      "source": [
        "#Alg 2"
      ]
    },
    {
      "cell_type": "code",
      "metadata": {
        "id": "4C3ZLGsnRtVV"
      },
      "source": [
        "# Python3 program for stable marriage problem \n",
        "\n",
        "# Number of Men or Women \n",
        "\n",
        "# This function returns true if \n",
        "# woman 'w' prefers man 'm1' over man 'm' \n",
        "def wPrefersM1OverM(prefer, w, m, m1, N): \n",
        "\t\n",
        "\t# Check if w prefers m over her \n",
        "\t# current engagment m1 \n",
        "\tfor i in range(N): \n",
        "\t\t\n",
        "\t\t# If m1 comes before m in lisr of w, \n",
        "\t\t# then w prefers her current engagement, \n",
        "\t\t# don't do anything \n",
        "\t\tif (prefer[w][i] == m1): \n",
        "\t\t\treturn True\n",
        "\n",
        "\t\t# If m cmes before m1 in w's list, \n",
        "\t\t# then free her current engagement \n",
        "\t\t# and engage her with m \n",
        "\t\tif (prefer[w][i] == m): \n",
        "\t\t\treturn False\n",
        "\n",
        "# Prints stable matching for N boys and N girls. \n",
        "# Boys are numbered as 0 to N-1. \n",
        "# Girls are numbereed as N to 2N-1. \n",
        "def stableMarriage(prefer,N,f): \n",
        "\t\n",
        "\t# Stores partner of women. This is our output \n",
        "\t# array that stores paing information. \n",
        "\t# The value of wPartner[i] indicates the partner \n",
        "\t# assigned to woman N+i. Note that the woman numbers \n",
        "\t# between N and 2*N-1. The value -1 indicates \n",
        "\t# that (N+i)'th woman is free \n",
        "\twPartner = [-1 for i in range(N)] \n",
        "\n",
        "\t# An array to store availability of men. \n",
        "\t# If mFree[i] is false, then man 'i' is free, \n",
        "\t# otherwise engaged. \n",
        "\tmFree = [False for i in range(N)] \n",
        "\n",
        "\tfreeCount = N\n",
        "  \n",
        "\tcount = 0\n",
        "\n",
        "\t# While there are free men \n",
        "\twhile (freeCount > 0): \n",
        "\t\tcount = count + 1\n",
        "\t\t# Pick the first free man (we could pick any) \n",
        "\t\tm = 0\n",
        "\t\twhile (m < N): \n",
        "\t\t\tif (mFree[m] == False): \n",
        "\t\t\t\tbreak\n",
        "\t\t\tm += 1\n",
        "\n",
        "\t\t# One by one go to all women according to \n",
        "\t\t# m's preferences. Here m is the picked free man \n",
        "\t\ti = 0\n",
        "\t\twhile i < N and mFree[m] == False: \n",
        "\t\t\tw = prefer[m][i] \n",
        "\n",
        "\t\t\t# The woman of preference is free, \n",
        "\t\t\t# w and m become partners (Note that \n",
        "\t\t\t# the partnership maybe changed later). \n",
        "\t\t\t# So we can say they are engaged not married \n",
        "\t\t\tif (wPartner[w - N] == -1): \n",
        "\t\t\t\twPartner[w - N] = m \n",
        "\t\t\t\tmFree[m] = True\n",
        "\t\t\t\tfreeCount -= 1\n",
        "\n",
        "\t\t\telse: \n",
        "\t\t\t\t\n",
        "\t\t\t\t# If w is not free \n",
        "\t\t\t\t# Find current engagement of w \n",
        "\t\t\t\tm1 = wPartner[w - N] \n",
        "\n",
        "\t\t\t\t# If w prefers m over her current engagement m1, \n",
        "\t\t\t\t# then break the engagement between w and m1 and \n",
        "\t\t\t\t# engage m with w. \n",
        "\t\t\t\tif (wPrefersM1OverM(prefer, w, m, m1,N) == False): \n",
        "\t\t\t\t\twPartner[w - N] = m \n",
        "\t\t\t\t\tmFree[m] = True\n",
        "\t\t\t\t\tmFree[m1] = False\n",
        "\t\t\ti += 1\n",
        "\n",
        "\t\t\t# End of Else \n",
        "\t\t# End of the for loop that goes \n",
        "\t\t# to all women in m's list \n",
        "\t# End of main while loop \n",
        "\n",
        "\t# Prthe solution \n",
        "\tif f:\n",
        "\t\tprint(\"n:\",N,\", Iterations: \",count, \"(n(n-1) +1):\", N*(N-1) + 1)\n",
        "\telse:\n",
        "\t\tprint(\"n:\",N,\", Iterations: \",count)\n",
        "\n",
        "\n",
        "\n",
        "# This code is contributed by Mohit Kumar \n"
      ],
      "execution_count": null,
      "outputs": []
    },
    {
      "cell_type": "markdown",
      "metadata": {
        "id": "FSRB5aaSXmPw"
      },
      "source": [
        "##Peor de los casos $n=4$"
      ]
    },
    {
      "cell_type": "code",
      "metadata": {
        "colab": {
          "base_uri": "https://localhost:8080/"
        },
        "id": "GyK7dmSMXmPx",
        "outputId": "2c74fc79-8c91-44a3-aa41-9eb3250f2296"
      },
      "source": [
        "s = setWorst(4, 4)\n",
        "stableMarriage(s[0] + s[1],4,1) "
      ],
      "execution_count": null,
      "outputs": [
        {
          "output_type": "stream",
          "text": [
            "n: 4 , Iterations:  13 (n(n-1) +1): 13\n"
          ],
          "name": "stdout"
        }
      ]
    },
    {
      "cell_type": "markdown",
      "metadata": {
        "id": "Ys8RecgfXmP0"
      },
      "source": [
        "##Peor de los casos $n=40$"
      ]
    },
    {
      "cell_type": "code",
      "metadata": {
        "colab": {
          "base_uri": "https://localhost:8080/"
        },
        "id": "cQjZZ34KXmP0",
        "outputId": "f5ee9f47-96fb-432a-dd76-ff154b2faa39"
      },
      "source": [
        "s = setWorst(40, 40)\n",
        "stableMarriage(s[0] + s[1],40,1) "
      ],
      "execution_count": null,
      "outputs": [
        {
          "output_type": "stream",
          "text": [
            "n: 40 , Iterations:  1561 (n(n-1) +1): 1561\n"
          ],
          "name": "stdout"
        }
      ]
    },
    {
      "cell_type": "markdown",
      "metadata": {
        "id": "irHn7WlOXmP0"
      },
      "source": [
        "##Mejor de los casos $n=4$"
      ]
    },
    {
      "cell_type": "code",
      "metadata": {
        "colab": {
          "base_uri": "https://localhost:8080/"
        },
        "id": "154EMQMrXmP0",
        "outputId": "fb21934e-c4b1-4029-df93-e0d063f08496"
      },
      "source": [
        "s = setBest(4, 4)\n",
        "stableMarriage(s[0] + s[1],4,0)"
      ],
      "execution_count": null,
      "outputs": [
        {
          "output_type": "stream",
          "text": [
            "n: 4 , Iterations:  4\n"
          ],
          "name": "stdout"
        }
      ]
    },
    {
      "cell_type": "markdown",
      "metadata": {
        "id": "SLYptnVAXmP1"
      },
      "source": [
        "##Mejor de los casos $n=40$"
      ]
    },
    {
      "cell_type": "code",
      "metadata": {
        "colab": {
          "base_uri": "https://localhost:8080/"
        },
        "id": "HiiIlxivXmP1",
        "outputId": "a20f7e61-8536-46bf-b9c5-9e1191bae657"
      },
      "source": [
        "s = setBest(4, 4)\n",
        "stableMarriage(s[0] + s[1],4,0)"
      ],
      "execution_count": null,
      "outputs": [
        {
          "output_type": "stream",
          "text": [
            "n: 4 , Iterations:  4\n"
          ],
          "name": "stdout"
        }
      ]
    },
    {
      "cell_type": "markdown",
      "metadata": {
        "id": "2CrbPBehaqIn"
      },
      "source": [
        "#Punto b\n"
      ]
    },
    {
      "cell_type": "code",
      "metadata": {
        "id": "rToPL9okatiC"
      },
      "source": [
        "import random\n",
        "import numpy as np\n",
        "\n",
        "def genInput(n):\n",
        "  r = []\n",
        "  for i in range(0, n):\n",
        "    r.append(np.random.permutation(n).tolist())\n",
        "  return r"
      ],
      "execution_count": null,
      "outputs": []
    },
    {
      "cell_type": "markdown",
      "metadata": {
        "id": "c6V4Z_XDYTzh"
      },
      "source": [
        "##$n=4$"
      ]
    },
    {
      "cell_type": "code",
      "metadata": {
        "colab": {
          "base_uri": "https://localhost:8080/",
          "height": 379
        },
        "id": "tx_ZeWPyYTK9",
        "outputId": "0b159a08-2fb4-48c8-d3ad-fcc4394a67a4"
      },
      "source": [
        "import pandas as pd\n",
        "import matplotlib.pyplot as plt\n",
        "man = ['a','b','c','d']\n",
        "wo = ['A','B','C','D']\n",
        "li = []\n",
        "pp = 0\n",
        "\n",
        "for i in range(100):\n",
        "  ws = genInput(4)\n",
        "  ms = genInput(4)\n",
        "  w = pd.DataFrame(list(map(list, zip(*ws))), index = man, columns = wo)\n",
        "  m = pd.DataFrame(ms, index = man, columns = wo)\n",
        "  pp = pp + stableMatching(4, ms, ws, 2)\n",
        "  li.append(stableMatching(4, ms, ws, 2))\n",
        "\n",
        "print(\"Min:\")\n",
        "print(min(li))\n",
        "print(\"Max:\")\n",
        "print(max(li))\n",
        "print(\"Prom:\")\n",
        "print(pp/100)\n",
        "plt.plot(li)\n",
        "plt.ylabel('Iterations')\n",
        "plt.show()"
      ],
      "execution_count": null,
      "outputs": [
        {
          "output_type": "stream",
          "text": [
            "Min:\n",
            "4\n",
            "Max:\n",
            "12\n",
            "Prom:\n",
            "6.33\n"
          ],
          "name": "stdout"
        },
        {
          "output_type": "display_data",
          "data": {
            "image/png": "[encoded data removed]",
            "text/plain": [
              "<Figure size 432x288 with 1 Axes>"
            ]
          },
          "metadata": {
            "tags": [],
            "needs_background": "light"
          }
        }
      ]
    },
    {
      "cell_type": "markdown",
      "metadata": {
        "id": "eCf6N7FeepL1"
      },
      "source": [
        "##$n=40$"
      ]
    },
    {
      "cell_type": "code",
      "metadata": {
        "colab": {
          "base_uri": "https://localhost:8080/",
          "height": 379
        },
        "id": "74_ZsbwUdgEI",
        "outputId": "a092a69b-cd6d-4cd0-f3e7-a0ba762c8359"
      },
      "source": [
        "import pandas as pd\n",
        "import matplotlib.pyplot as plt\n",
        "man = list(range(1, 41))\n",
        "wo = list(range(1, 41))\n",
        "li = []\n",
        "pp = 0\n",
        "\n",
        "for i in range(100):\n",
        "  ws = genInput(40)\n",
        "  ms = genInput(40)\n",
        "  w = pd.DataFrame(list(map(list, zip(*ws))), index = man, columns = wo)\n",
        "  m = pd.DataFrame(ms, index = man, columns = wo)\n",
        "  pp = pp + stableMatching(40, ms, ws, 2)\n",
        "  li.append(stableMatching(40, ms, ws, 2))\n",
        "\n",
        "print(\"Min:\")\n",
        "print(min(li))\n",
        "print(\"Max:\")\n",
        "print(max(li))\n",
        "print(\"Prom:\")\n",
        "print(pp/100)\n",
        "plt.plot(li)\n",
        "plt.ylabel('Iterations')\n",
        "plt.show()"
      ],
      "execution_count": null,
      "outputs": [
        {
          "output_type": "stream",
          "text": [
            "Min:\n",
            "76\n",
            "Max:\n",
            "287\n",
            "Prom:\n",
            "159.24\n"
          ],
          "name": "stdout"
        },
        {
          "output_type": "display_data",
          "data": {
            "image/png": "[encoded data removed]",
            "text/plain": [
              "<Figure size 432x288 with 1 Axes>"
            ]
          },
          "metadata": {
            "tags": [],
            "needs_background": "light"
          }
        }
      ]
    }
  ]
}